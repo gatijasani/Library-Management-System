{
 "cells": [
  {
   "cell_type": "code",
   "execution_count": null,
   "id": "722ec742",
   "metadata": {},
   "outputs": [],
   "source": []
  },
  {
   "cell_type": "code",
   "execution_count": null,
   "id": "35588fd9",
   "metadata": {},
   "outputs": [],
   "source": []
  },
  {
   "cell_type": "code",
   "execution_count": null,
   "id": "96226a2b",
   "metadata": {},
   "outputs": [],
   "source": []
  },
  {
   "cell_type": "code",
   "execution_count": null,
   "id": "024db47b",
   "metadata": {},
   "outputs": [],
   "source": []
  },
  {
   "cell_type": "code",
   "execution_count": null,
   "id": "89bd65da",
   "metadata": {},
   "outputs": [
    {
     "name": "stdout",
     "output_type": "stream",
     "text": [
      "Welcome to Library\n",
      "Select your Option\n",
      "              1:Librarian Login\n",
      "              2:Student Login\n",
      "              3:Exit\n",
      "Please Enter your option:2\n",
      "Please Enter your Name:Swetha\n",
      "Please Enter your R.No:4321\n",
      "Access Denied \n",
      "User name or PIN Entered wrong\n",
      "\n",
      "You have more 2 attempts\n",
      "Please Enter your Name:Manasa\n",
      "Please Enter your R.No:3333\n",
      "Access Granted\n",
      "Select your Option\n",
      "                        1:Collect Book\n",
      "                        2:Return Books\n",
      "                        3:Exit or Back\n",
      "                        \n"
     ]
    }
   ],
   "source": [
    "#Library Management\n",
    "\n",
    "\n",
    "class Library():\n",
    "    Librarians=[[\"Prashanth\",\"1234\"],[\"Swetha\",\"4321\"]]\n",
    "    Students=[[\"RajaShekar\",\"1111\"],[\"Sandeep\",\"2222\"],[\"Manasa\",\"3333\"],[\"Manoj\",\"4444\"],[\"RamaKrishna\",\"5555\"],[\"Teja\",\"6666\"],[\"Bhavani\",\"7777\"],[\"Sandilya\",\"9999\"]]\n",
    "    Rack_Book=[[\"Physics\",\"Einstin\",\"1000\"],[\"Physics\",\"Einstin\",\"1001\"],[\"Physics\",\"Edison\",\"1002\"],[\"Physics\",\"Einstin\",\"1003\"],[\"Physics\",\"Einstin\",\"1004\"],        [\"Chemistry\",\"Einstin\",\"2000\"],[\"Chemistry\",\"Thamos\",\"2001\"],[\"Chemistry\",\"Einstin\",\"2002\"],[\"Chemistry\",\"Nobel\",\"2003\"],[\"Chemistry\",\"Einstin\",\"2004\"]]\n",
    "    Dispatch_Book=[]\n",
    "\n",
    "    def Change_Login(self,name,pin):\n",
    "        if [name,pin] not in lib.Librarians:\n",
    "            Librarians=self.Librarians.append([name,pin])\n",
    "            print(\"Successfully Changed login details\")\n",
    "        else:\n",
    "            print(\"Entered same details only\")\n",
    "            \n",
    "    def Update_Book(self,name,author,Bid):\n",
    "        if [name,author,Bid] not in lib.Rack_Book:\n",
    "\n",
    "            Rack_Book=self.Rack_Book.append([name,author,Bid])\n",
    "            #print(lib.Rack_Book)\n",
    "            print(\"Update Successfully:\",[name,author,Bid])\n",
    "        else:\n",
    "            print(\"Book already available with same details\")\n",
    "            \n",
    "    def Details_Books(self):\n",
    "        print(\"--------------------------------------------------\")\n",
    "        print(\"Book name\",\" \"*9,\"Author Name\",\" \"*9,\"Book ID\")\n",
    "        print(\"--------------------------------------------------\")\n",
    "\n",
    "        for i in range(len(lib.Rack_Book)):\n",
    "            print(lib.Rack_Book[i][0],\" \"*(20-len(lib.Rack_Book[i][0])),lib.Rack_Book[i][1],\" \"*(20-len(lib.Rack_Book[i][1])),lib.Rack_Book[i][2])\n",
    "            print(\"___________________________________________________\")\n",
    "\n",
    "        print(\"\\nNo of avaliable Books are:\",len(lib.Rack_Book))\n",
    "        \n",
    "    def Delete_Book(self,name,author,Bid):\n",
    "        if [name,author,Bid] in lib.Rack_Book:\n",
    "            Rack_Book=self.Rack_Book.remove([name,author,Bid])\n",
    "            print(\"Successfully deleted details\",[name,author,Bid])\n",
    "        else:\n",
    "            print(\"No Book available with details\")  \n",
    "\n",
    "    def Add_Students(self,name,pin):\n",
    "        if [name,pin] not in lib.Students:\n",
    "            Students=self.Students.append([name,pin])\n",
    "            print(\"Successfully Added with details\",[name,pin])\n",
    "        else:\n",
    "            print(\"Students already available with details\")\n",
    "            \n",
    "    def Delete_Students(self,name,pin):\n",
    "        if [name,pin] in lib.Students:\n",
    "            Students=self.Students.remove([name,pin])\n",
    "            print(\"Successfully deleted details\",[name,pin])\n",
    "        else:\n",
    "            print(\"No students available with details\") \n",
    "            \n",
    "    def Details_Students(self):\n",
    "        print(\"-------------------------------\")\n",
    "        print(\"Sudent name\",\" \"*9,\"R.No\")\n",
    "        print(\"-------------------------------\")\n",
    "\n",
    "        for i in range(len(lib.Students)):\n",
    "            print(lib.Students[i][0],\" \"*(20-len(lib.Students[i][0])),lib.Students[i][1])\n",
    "            print(\"_______________________________\")\n",
    "        print(\"\\nNo of Students are:\",len(lib.Students))\n",
    "        \n",
    "    def Collect_Books(self,name,author,Bid):\n",
    "        if [name,author,Bid] in lib.Rack_Book:\n",
    "            Dispatch_Book=self.Dispatch_Book.append([name,author,Bid])\n",
    "            Rack_Book=self.Rack_Book.remove([name,author,Bid])\n",
    "            print(\"Book collected succesfully:\" ,[name,author,Bid])\n",
    "        else:\n",
    "            print(\"Enter details wrong:\")\n",
    "            \n",
    "    def Return_Book(self,name,author,Bid):\n",
    "       \n",
    "        if [name,author,Bid] in lib.Dispatch_Book:\n",
    "            Dispatch_Book=self.Dispatch_Book.remove([name,author,Bid])\n",
    "            Rack_Book=lib.Rack_Book.append([name,author,Bid])\n",
    "            print(\"Return Successfully:\",[name,author,Bid])\n",
    "       \n",
    "        else:\n",
    "            print(\"Enter details wrong:\")\n",
    "\n",
    "\n",
    "lib=Library()\n",
    "print(\"Welcome to Library\")\n",
    "while(True):\n",
    "    print('''Select your Option\n",
    "              1:Librarian Login\n",
    "              2:Student Login\n",
    "              3:Exit''')\n",
    "\n",
    "    opt1=int(input(\"Please Enter your option:\"))\n",
    "\n",
    "    if opt1==1:\n",
    "        i=1\n",
    "        while (i<4):\n",
    "            usrlib=input(\"Please Enter your Name:\")\n",
    "            pinlib=input(\"Please Enter your Login PIN:\")\n",
    "\n",
    "            if [usrlib,pinlib] in lib.Librarians:\n",
    "                print(\"Access Granted\")\n",
    "                i=5\n",
    "                while(True):\n",
    "                    print('''Select your Option\n",
    "                    0:Change Username or Password   \n",
    "                    1:Add Books\n",
    "                    2:Books Details\n",
    "                    3:Delete Books\n",
    "                    4:Add Students\n",
    "                    5:Remove Students\n",
    "                    6:Students details\n",
    "                    7:Exit or Back''')\n",
    "                    opt2=int(input(\"Please Enter your option:\"))\n",
    "                    if opt2==0:\n",
    "                        usrlib1=input(\"Please Enter User Name to change:\")\n",
    "                        pinlib2=input(\"Please Enter Login PIN to change:\")\n",
    "                        lib.Change_Login(usrlib1,pinlib2)\n",
    "\n",
    "                    elif opt2==1:\n",
    "                        name=input(\"Please Enter your Book Name:\")\n",
    "                        author=input(\"Please Enter your Book Author:\")\n",
    "                        Bid=input(\"Please Enter your Book Id:\")\n",
    "                        lib.Update_Book(name.capitalize(),author.capitalize(),Bid)\n",
    "\n",
    "                    elif opt2==2:\n",
    "                        lib.Details_Books()\n",
    "                        \n",
    "                    elif opt2==3:\n",
    "                        name=input(\"Please Enter Book Name:\")\n",
    "                        author=input(\"Please Enter your Book Author:\")\n",
    "                        Bid=input(\"Please Enter your Book Id:\")\n",
    "                        lib.Delete_Book(name.capitalize(),author.capitalize(),Bid)  \n",
    "                        \n",
    "                    \n",
    "                    elif opt2==4:\n",
    "                        name=input(\"Please Enter Student Name:\")\n",
    "                        pin=input(\"Please Enter Student R.No:\")\n",
    "                        lib.Add_Students(name.capitalize(),pin)\n",
    "                    elif opt2==5:\n",
    "                        name=input(\"Please Enter Student Name:\")\n",
    "                        pin=input(\"Please Enter Student R.No:\")\n",
    "                        lib.Delete_Students(name.capitalize(),pin)    \n",
    "                    elif opt2==6:\n",
    "                        lib.Details_Students()\n",
    "                    elif opt2==7:    \n",
    "                        print(\"Back to Menu\")\n",
    "                        break\n",
    "                    else:\n",
    "                        print(\"Wrong input\")\n",
    "                        continue\n",
    "\n",
    "\n",
    "            else:\n",
    "                print(\"Access Denied \\nUser name or PIN Entered wrong\")\n",
    "                print(\"\\nYou have more\",(3-i),\"attempts\")\n",
    "                i+=1\n",
    "                if i==4:\n",
    "                    print(\"Failed login within 3 attempts\")\n",
    "    elif opt1==2:\n",
    "        i=1\n",
    "        while (i<4):\n",
    "            usrstd=input(\"Please Enter your Name:\")\n",
    "            pinstd=input(\"Please Enter your R.No:\")\n",
    "\n",
    "            if [usrstd,pinstd] in lib.Students:\n",
    "                print(\"Access Granted\")\n",
    "                i=5\n",
    "                while(True):\n",
    "                    print('''Select your Option\n",
    "                        1:Collect Book\n",
    "                        2:Return Books\n",
    "                        3:Exit or Back\n",
    "                        ''')\n",
    "                    opt2=int(input(\"Please Enter your option:\"))\n",
    "                    if opt2==1:\n",
    "                        print(\"Availablie Books are:\\n\")\n",
    "                        lib.Details_Books()\n",
    "                        name=input(\"Please Enter your Book Name:\")\n",
    "                        author=input(\"Please Enter your Book Author:\")\n",
    "                        Bid=input(\"Please Enter your Book Id:\")\n",
    "                        lib.Collect_Books(name.capitalize(),author.capitalize(),Bid)\n",
    "                    elif opt2==2:\n",
    "                        if (lib.Dispatch_Book==[]):\n",
    "                                print(\"No Books Have been Borrowed\")\n",
    "                                break\n",
    "                        name=input(\"Please Enter your Book Name:\")\n",
    "                        author=input(\"Please Enter your Book Author:\")\n",
    "                        Bid=input(\"Please Enter your Book Id:\")\n",
    "                        lib.Return_Book(name.capitalize(),author.capitalize(),Bid)\n",
    "                    elif opt2==3:\n",
    "                        print(\"Back to Menu\")\n",
    "                        break\n",
    "\n",
    "                    else:\n",
    "                        print(\"Wrong input\")\n",
    "\n",
    "\n",
    "            else:\n",
    "                print(\"Access Denied \\nUser name or PIN Entered wrong\")\n",
    "                print(\"\\nYou have more\",(3-i),\"attempts\")\n",
    "                i+=1\n",
    "                if i==4:\n",
    "                    print(\"Failed login within 3 attempts\")\n",
    "\n",
    "    elif opt1==3:\n",
    "        print(\"Exit Successfully\")\n",
    "        break\n",
    "\n",
    "    else:\n",
    "        print(\"Wrong input\")"
   ]
  },
  {
   "cell_type": "code",
   "execution_count": null,
   "id": "bc9da3cc",
   "metadata": {},
   "outputs": [],
   "source": []
  },
  {
   "cell_type": "code",
   "execution_count": null,
   "id": "8777732b",
   "metadata": {},
   "outputs": [],
   "source": []
  },
  {
   "cell_type": "code",
   "execution_count": null,
   "id": "94876d48",
   "metadata": {},
   "outputs": [],
   "source": []
  },
  {
   "cell_type": "code",
   "execution_count": null,
   "id": "09a418e1",
   "metadata": {},
   "outputs": [],
   "source": []
  },
  {
   "cell_type": "code",
   "execution_count": null,
   "id": "85ee7258",
   "metadata": {},
   "outputs": [],
   "source": []
  },
  {
   "cell_type": "code",
   "execution_count": null,
   "id": "4935885f",
   "metadata": {},
   "outputs": [],
   "source": []
  },
  {
   "cell_type": "code",
   "execution_count": null,
   "id": "5f18c638",
   "metadata": {},
   "outputs": [],
   "source": []
  },
  {
   "cell_type": "code",
   "execution_count": null,
   "id": "cec33e18",
   "metadata": {},
   "outputs": [],
   "source": []
  },
  {
   "cell_type": "code",
   "execution_count": null,
   "id": "4bd7a1a8",
   "metadata": {},
   "outputs": [],
   "source": []
  },
  {
   "cell_type": "code",
   "execution_count": null,
   "id": "a1d4ff5e",
   "metadata": {},
   "outputs": [],
   "source": []
  },
  {
   "cell_type": "code",
   "execution_count": null,
   "id": "fdbe4bd5",
   "metadata": {},
   "outputs": [],
   "source": []
  },
  {
   "cell_type": "code",
   "execution_count": null,
   "id": "22b06e0e",
   "metadata": {},
   "outputs": [],
   "source": []
  },
  {
   "cell_type": "code",
   "execution_count": null,
   "id": "9e27d127",
   "metadata": {},
   "outputs": [],
   "source": []
  },
  {
   "cell_type": "code",
   "execution_count": null,
   "id": "b03c1adc",
   "metadata": {},
   "outputs": [],
   "source": []
  },
  {
   "cell_type": "code",
   "execution_count": null,
   "id": "39ae9f03",
   "metadata": {},
   "outputs": [],
   "source": []
  },
  {
   "cell_type": "code",
   "execution_count": null,
   "id": "c692f76a",
   "metadata": {},
   "outputs": [],
   "source": []
  },
  {
   "cell_type": "code",
   "execution_count": null,
   "id": "30769f98",
   "metadata": {},
   "outputs": [],
   "source": []
  },
  {
   "cell_type": "code",
   "execution_count": null,
   "id": "182cec90",
   "metadata": {},
   "outputs": [],
   "source": []
  },
  {
   "cell_type": "code",
   "execution_count": null,
   "id": "08e779dd",
   "metadata": {},
   "outputs": [],
   "source": []
  },
  {
   "cell_type": "code",
   "execution_count": null,
   "id": "52517304",
   "metadata": {},
   "outputs": [],
   "source": []
  },
  {
   "cell_type": "code",
   "execution_count": null,
   "id": "53b50ee7",
   "metadata": {},
   "outputs": [],
   "source": []
  },
  {
   "cell_type": "code",
   "execution_count": null,
   "id": "83a6af9b",
   "metadata": {},
   "outputs": [],
   "source": []
  },
  {
   "cell_type": "code",
   "execution_count": null,
   "id": "10ca0a34",
   "metadata": {},
   "outputs": [],
   "source": []
  },
  {
   "cell_type": "code",
   "execution_count": null,
   "id": "9942ba66",
   "metadata": {},
   "outputs": [],
   "source": []
  },
  {
   "cell_type": "code",
   "execution_count": null,
   "id": "67ddd48e",
   "metadata": {},
   "outputs": [],
   "source": []
  },
  {
   "cell_type": "code",
   "execution_count": null,
   "id": "99925857",
   "metadata": {},
   "outputs": [],
   "source": []
  },
  {
   "cell_type": "code",
   "execution_count": 2,
   "id": "8da0372f",
   "metadata": {},
   "outputs": [
    {
     "name": "stdout",
     "output_type": "stream",
     "text": [
      "\n",
      " ====== Welcome to Central Library ======\n",
      "        Please choose an option:\n",
      "        1. List all the books\n",
      "        2. Request a book\n",
      "        3. Add/Return a book\n",
      "        4. Exit the Library\n",
      "        \n",
      "Enter a choice: 1\n",
      "Books present in this library are: \n",
      " *Algorithms\n",
      " *Python\n",
      " *Java\n",
      " *Entrepreneurship\n",
      "\n",
      " ====== Welcome to Central Library ======\n",
      "        Please choose an option:\n",
      "        1. List all the books\n",
      "        2. Request a book\n",
      "        3. Add/Return a book\n",
      "        4. Exit the Library\n",
      "        \n",
      "Enter a choice: 2\n",
      "Enter the name of the book you want to borrow: Java\n",
      "You have been issued Java. Please keep it safe and return it within 30 days\n",
      "\n",
      " ====== Welcome to Central Library ======\n",
      "        Please choose an option:\n",
      "        1. List all the books\n",
      "        2. Request a book\n",
      "        3. Add/Return a book\n",
      "        4. Exit the Library\n",
      "        \n",
      "Enter a choice: 3\n",
      "Enter the name of the book you want to return: Java\n",
      "Thanks for returning this book! Hope you enjoyed reading it. Have a great day ahead!\n",
      "\n",
      " ====== Welcome to Central Library ======\n",
      "        Please choose an option:\n",
      "        1. List all the books\n",
      "        2. Request a book\n",
      "        3. Add/Return a book\n",
      "        4. Exit the Library\n",
      "        \n",
      "Enter a choice: 4\n",
      "Thanks for choosing Central Library. Have a great day ahead!\n",
      "\n",
      " ====== Welcome to Central Library ======\n",
      "        Please choose an option:\n",
      "        1. List all the books\n",
      "        2. Request a book\n",
      "        3. Add/Return a book\n",
      "        4. Exit the Library\n",
      "        \n",
      "Enter a choice: \n"
     ]
    },
    {
     "ename": "ValueError",
     "evalue": "invalid literal for int() with base 10: ''",
     "output_type": "error",
     "traceback": [
      "\u001b[1;31m---------------------------------------------------------------------------\u001b[0m",
      "\u001b[1;31mValueError\u001b[0m                                Traceback (most recent call last)",
      "\u001b[1;32m~\\AppData\\Local\\Temp\\ipykernel_2064\\1796283302.py\u001b[0m in \u001b[0;36m<module>\u001b[1;34m\u001b[0m\n\u001b[0;32m     44\u001b[0m         '''\n\u001b[0;32m     45\u001b[0m         \u001b[0mprint\u001b[0m\u001b[1;33m(\u001b[0m\u001b[0mwelcomeMsg\u001b[0m\u001b[1;33m)\u001b[0m\u001b[1;33m\u001b[0m\u001b[1;33m\u001b[0m\u001b[0m\n\u001b[1;32m---> 46\u001b[1;33m         \u001b[0ma\u001b[0m \u001b[1;33m=\u001b[0m \u001b[0mint\u001b[0m\u001b[1;33m(\u001b[0m\u001b[0minput\u001b[0m\u001b[1;33m(\u001b[0m\u001b[1;34m\"Enter a choice: \"\u001b[0m\u001b[1;33m)\u001b[0m\u001b[1;33m)\u001b[0m\u001b[1;33m\u001b[0m\u001b[1;33m\u001b[0m\u001b[0m\n\u001b[0m\u001b[0;32m     47\u001b[0m         \u001b[1;32mif\u001b[0m \u001b[0ma\u001b[0m \u001b[1;33m==\u001b[0m \u001b[1;36m1\u001b[0m\u001b[1;33m:\u001b[0m\u001b[1;33m\u001b[0m\u001b[1;33m\u001b[0m\u001b[0m\n\u001b[0;32m     48\u001b[0m             \u001b[0mcentraLibrary\u001b[0m\u001b[1;33m.\u001b[0m\u001b[0mdisplayAvailableBooks\u001b[0m\u001b[1;33m(\u001b[0m\u001b[1;33m)\u001b[0m\u001b[1;33m\u001b[0m\u001b[1;33m\u001b[0m\u001b[0m\n",
      "\u001b[1;31mValueError\u001b[0m: invalid literal for int() with base 10: ''"
     ]
    }
   ],
   "source": [
    "\n"
   ]
  },
  {
   "cell_type": "code",
   "execution_count": null,
   "id": "4c5c3cdd",
   "metadata": {},
   "outputs": [],
   "source": []
  },
  {
   "cell_type": "code",
   "execution_count": null,
   "id": "fdd0a1b6",
   "metadata": {},
   "outputs": [],
   "source": []
  },
  {
   "cell_type": "code",
   "execution_count": null,
   "id": "a1caef42",
   "metadata": {},
   "outputs": [],
   "source": []
  },
  {
   "cell_type": "code",
   "execution_count": null,
   "id": "f12d0808",
   "metadata": {},
   "outputs": [],
   "source": []
  },
  {
   "cell_type": "code",
   "execution_count": 16,
   "id": "66a0b731",
   "metadata": {},
   "outputs": [
    {
     "name": "stdout",
     "output_type": "stream",
     "text": [
      "Welcome to Library\n",
      "Select your Option\n",
      "              1:Librarian Login\n",
      "              2:Student Login\n",
      "              3:Exit\n",
      "Please Enter your option:1\n",
      "Please Enter your Name:Swetha\n",
      "Please Enter your Login PIN:4321\n",
      "Access Granted\n",
      "Select your Option\n",
      "                    0:Change Username or Password   \n",
      "                    1:Add Books\n",
      "                    2:Books Details\n",
      "                    3:Delete Books\n",
      "                    4:Add Students\n",
      "                    5:Remove Students\n",
      "                    6:Students details\n",
      "                    7:Exit or Back\n",
      "Please Enter your option:3\n",
      "Please Enter Book Name:Physics\n",
      "Please Enter your Book Author:Edison\n",
      "Please Enter your Book Id:1002\n",
      "Successfully deleted details ['Physics', 'Edison', '1002']\n",
      "Select your Option\n",
      "                    0:Change Username or Password   \n",
      "                    1:Add Books\n",
      "                    2:Books Details\n",
      "                    3:Delete Books\n",
      "                    4:Add Students\n",
      "                    5:Remove Students\n",
      "                    6:Students details\n",
      "                    7:Exit or Back\n",
      "Please Enter your option:1\n",
      "Please Enter your Book Name:abc\n",
      "Please Enter your Book Author:bnm\n",
      "Please Enter your Book Id:12\n",
      "Update Successfully: ['Abc', 'Bnm', '12']\n",
      "Select your Option\n",
      "                    0:Change Username or Password   \n",
      "                    1:Add Books\n",
      "                    2:Books Details\n",
      "                    3:Delete Books\n",
      "                    4:Add Students\n",
      "                    5:Remove Students\n",
      "                    6:Students details\n",
      "                    7:Exit or Back\n",
      "Please Enter your option:3\n",
      "Please Enter Book Name:ghg\n",
      "Please Enter your Book Author:kl\n",
      "Please Enter your Book Id:16\n",
      "No Book available with details\n",
      "Select your Option\n",
      "                    0:Change Username or Password   \n",
      "                    1:Add Books\n",
      "                    2:Books Details\n",
      "                    3:Delete Books\n",
      "                    4:Add Students\n",
      "                    5:Remove Students\n",
      "                    6:Students details\n",
      "                    7:Exit or Back\n",
      "Please Enter your option:3\n",
      "Please Enter Book Name:abc\n",
      "Please Enter your Book Author:bnm\n",
      "Please Enter your Book Id:12\n",
      "Successfully deleted details ['Abc', 'Bnm', '12']\n",
      "Select your Option\n",
      "                    0:Change Username or Password   \n",
      "                    1:Add Books\n",
      "                    2:Books Details\n",
      "                    3:Delete Books\n",
      "                    4:Add Students\n",
      "                    5:Remove Students\n",
      "                    6:Students details\n",
      "                    7:Exit or Back\n",
      "Please Enter your option:2\n",
      "--------------------------------------------------\n",
      "Book name           Author Name           Book ID\n",
      "--------------------------------------------------\n",
      "Physics               Einstin               1000\n",
      "___________________________________________________\n",
      "Physics               Einstin               1001\n",
      "___________________________________________________\n",
      "Physics               Einstin               1003\n",
      "___________________________________________________\n",
      "Physics               Einstin               1004\n",
      "___________________________________________________\n",
      "Chemistry             Einstin               2000\n",
      "___________________________________________________\n",
      "Chemistry             Thamos                2001\n",
      "___________________________________________________\n",
      "Chemistry             Einstin               2002\n",
      "___________________________________________________\n",
      "Chemistry             Nobel                 2003\n",
      "___________________________________________________\n",
      "Chemistry             Einstin               2004\n",
      "___________________________________________________\n",
      "\n",
      "No of avaliable Books are: 9\n",
      "Select your Option\n",
      "                    0:Change Username or Password   \n",
      "                    1:Add Books\n",
      "                    2:Books Details\n",
      "                    3:Delete Books\n",
      "                    4:Add Students\n",
      "                    5:Remove Students\n",
      "                    6:Students details\n",
      "                    7:Exit or Back\n",
      "Please Enter your option:7\n",
      "Back to Menu\n",
      "Select your Option\n",
      "              1:Librarian Login\n",
      "              2:Student Login\n",
      "              3:Exit\n",
      "Please Enter your option:3\n",
      "Exit Successfully\n"
     ]
    }
   ],
   "source": [
    "\n"
   ]
  },
  {
   "cell_type": "code",
   "execution_count": null,
   "id": "d735f577",
   "metadata": {},
   "outputs": [],
   "source": []
  },
  {
   "cell_type": "code",
   "execution_count": null,
   "id": "b2d8eb65",
   "metadata": {},
   "outputs": [],
   "source": []
  },
  {
   "cell_type": "code",
   "execution_count": null,
   "id": "d8974a77",
   "metadata": {},
   "outputs": [],
   "source": []
  },
  {
   "cell_type": "code",
   "execution_count": null,
   "id": "5332cfc1",
   "metadata": {},
   "outputs": [],
   "source": []
  },
  {
   "cell_type": "code",
   "execution_count": null,
   "id": "0e7ef5a4",
   "metadata": {},
   "outputs": [],
   "source": []
  },
  {
   "cell_type": "code",
   "execution_count": null,
   "id": "5e864472",
   "metadata": {},
   "outputs": [],
   "source": []
  },
  {
   "cell_type": "code",
   "execution_count": null,
   "id": "49cf8ea5",
   "metadata": {},
   "outputs": [],
   "source": []
  },
  {
   "cell_type": "code",
   "execution_count": null,
   "id": "9ede9874",
   "metadata": {},
   "outputs": [],
   "source": []
  },
  {
   "cell_type": "code",
   "execution_count": null,
   "id": "5311482a",
   "metadata": {},
   "outputs": [],
   "source": []
  },
  {
   "cell_type": "code",
   "execution_count": null,
   "id": "c18d2dca",
   "metadata": {},
   "outputs": [],
   "source": []
  },
  {
   "cell_type": "code",
   "execution_count": null,
   "id": "5707e1ff",
   "metadata": {},
   "outputs": [],
   "source": []
  },
  {
   "cell_type": "code",
   "execution_count": null,
   "id": "16922fc9",
   "metadata": {},
   "outputs": [],
   "source": []
  },
  {
   "cell_type": "code",
   "execution_count": null,
   "id": "0b4ecf4b",
   "metadata": {},
   "outputs": [],
   "source": []
  },
  {
   "cell_type": "code",
   "execution_count": null,
   "id": "b786ef53",
   "metadata": {},
   "outputs": [],
   "source": []
  },
  {
   "cell_type": "code",
   "execution_count": null,
   "id": "6e034ab3",
   "metadata": {},
   "outputs": [],
   "source": []
  },
  {
   "cell_type": "code",
   "execution_count": null,
   "id": "87863c8a",
   "metadata": {},
   "outputs": [],
   "source": []
  },
  {
   "cell_type": "code",
   "execution_count": null,
   "id": "d76fd75c",
   "metadata": {},
   "outputs": [],
   "source": []
  },
  {
   "cell_type": "code",
   "execution_count": null,
   "id": "688a539c",
   "metadata": {},
   "outputs": [],
   "source": []
  },
  {
   "cell_type": "code",
   "execution_count": null,
   "id": "d92f29e7",
   "metadata": {},
   "outputs": [],
   "source": []
  },
  {
   "cell_type": "code",
   "execution_count": null,
   "id": "1904be9a",
   "metadata": {},
   "outputs": [],
   "source": []
  },
  {
   "cell_type": "code",
   "execution_count": null,
   "id": "c3ffabbe",
   "metadata": {},
   "outputs": [],
   "source": []
  },
  {
   "cell_type": "code",
   "execution_count": null,
   "id": "a7b84cfb",
   "metadata": {},
   "outputs": [],
   "source": []
  },
  {
   "cell_type": "code",
   "execution_count": null,
   "id": "b267ac48",
   "metadata": {},
   "outputs": [],
   "source": []
  },
  {
   "cell_type": "code",
   "execution_count": null,
   "id": "f376c743",
   "metadata": {},
   "outputs": [],
   "source": []
  },
  {
   "cell_type": "code",
   "execution_count": null,
   "id": "28dfca44",
   "metadata": {},
   "outputs": [],
   "source": []
  },
  {
   "cell_type": "code",
   "execution_count": null,
   "id": "57684563",
   "metadata": {},
   "outputs": [],
   "source": []
  },
  {
   "cell_type": "code",
   "execution_count": null,
   "id": "712b158c",
   "metadata": {},
   "outputs": [],
   "source": []
  },
  {
   "cell_type": "code",
   "execution_count": null,
   "id": "ae30eb31",
   "metadata": {},
   "outputs": [],
   "source": []
  },
  {
   "cell_type": "code",
   "execution_count": null,
   "id": "ba930f22",
   "metadata": {},
   "outputs": [],
   "source": []
  },
  {
   "cell_type": "code",
   "execution_count": null,
   "id": "5b8cfbb7",
   "metadata": {},
   "outputs": [],
   "source": []
  },
  {
   "cell_type": "code",
   "execution_count": null,
   "id": "f12b7084",
   "metadata": {},
   "outputs": [],
   "source": []
  },
  {
   "cell_type": "code",
   "execution_count": null,
   "id": "200052d3",
   "metadata": {},
   "outputs": [],
   "source": []
  },
  {
   "cell_type": "code",
   "execution_count": null,
   "id": "c8fe8430",
   "metadata": {},
   "outputs": [],
   "source": []
  },
  {
   "cell_type": "code",
   "execution_count": null,
   "id": "d89818b8",
   "metadata": {},
   "outputs": [],
   "source": []
  },
  {
   "cell_type": "code",
   "execution_count": null,
   "id": "4a8ebac4",
   "metadata": {},
   "outputs": [],
   "source": []
  },
  {
   "cell_type": "code",
   "execution_count": null,
   "id": "a2261abb",
   "metadata": {},
   "outputs": [],
   "source": []
  },
  {
   "cell_type": "code",
   "execution_count": null,
   "id": "b89cd210",
   "metadata": {},
   "outputs": [],
   "source": []
  },
  {
   "cell_type": "code",
   "execution_count": null,
   "id": "2f5760c8",
   "metadata": {},
   "outputs": [],
   "source": []
  },
  {
   "cell_type": "code",
   "execution_count": null,
   "id": "b76bcb2f",
   "metadata": {},
   "outputs": [],
   "source": []
  },
  {
   "cell_type": "code",
   "execution_count": null,
   "id": "b057885f",
   "metadata": {},
   "outputs": [],
   "source": []
  },
  {
   "cell_type": "code",
   "execution_count": null,
   "id": "12f41417",
   "metadata": {},
   "outputs": [],
   "source": []
  },
  {
   "cell_type": "code",
   "execution_count": null,
   "id": "fe2fd847",
   "metadata": {},
   "outputs": [],
   "source": []
  },
  {
   "cell_type": "code",
   "execution_count": null,
   "id": "ddab54e7",
   "metadata": {},
   "outputs": [],
   "source": []
  },
  {
   "cell_type": "code",
   "execution_count": null,
   "id": "ef7b426e",
   "metadata": {},
   "outputs": [],
   "source": []
  },
  {
   "cell_type": "code",
   "execution_count": null,
   "id": "5299faf9",
   "metadata": {},
   "outputs": [],
   "source": []
  },
  {
   "cell_type": "code",
   "execution_count": null,
   "id": "34306cbb",
   "metadata": {},
   "outputs": [],
   "source": []
  },
  {
   "cell_type": "code",
   "execution_count": null,
   "id": "cd3a32e6",
   "metadata": {},
   "outputs": [],
   "source": []
  },
  {
   "cell_type": "code",
   "execution_count": null,
   "id": "b234cfc7",
   "metadata": {},
   "outputs": [],
   "source": []
  },
  {
   "cell_type": "code",
   "execution_count": null,
   "id": "66acd864",
   "metadata": {},
   "outputs": [],
   "source": []
  },
  {
   "cell_type": "code",
   "execution_count": null,
   "id": "798d2100",
   "metadata": {},
   "outputs": [],
   "source": []
  },
  {
   "cell_type": "code",
   "execution_count": null,
   "id": "9902d69b",
   "metadata": {},
   "outputs": [],
   "source": []
  },
  {
   "cell_type": "code",
   "execution_count": null,
   "id": "d9062ab9",
   "metadata": {},
   "outputs": [],
   "source": []
  },
  {
   "cell_type": "code",
   "execution_count": null,
   "id": "868ae828",
   "metadata": {},
   "outputs": [],
   "source": []
  },
  {
   "cell_type": "code",
   "execution_count": null,
   "id": "0c32eb35",
   "metadata": {},
   "outputs": [],
   "source": []
  },
  {
   "cell_type": "code",
   "execution_count": null,
   "id": "ed85de0e",
   "metadata": {},
   "outputs": [],
   "source": []
  },
  {
   "cell_type": "code",
   "execution_count": null,
   "id": "3d6bebad",
   "metadata": {},
   "outputs": [],
   "source": []
  },
  {
   "cell_type": "code",
   "execution_count": null,
   "id": "17c2b99c",
   "metadata": {},
   "outputs": [],
   "source": []
  },
  {
   "cell_type": "code",
   "execution_count": null,
   "id": "2ef1bbd8",
   "metadata": {},
   "outputs": [],
   "source": []
  },
  {
   "cell_type": "code",
   "execution_count": null,
   "id": "355d0a94",
   "metadata": {},
   "outputs": [],
   "source": []
  },
  {
   "cell_type": "code",
   "execution_count": null,
   "id": "2800b48a",
   "metadata": {},
   "outputs": [],
   "source": []
  },
  {
   "cell_type": "code",
   "execution_count": null,
   "id": "4d0625f9",
   "metadata": {},
   "outputs": [],
   "source": []
  },
  {
   "cell_type": "code",
   "execution_count": null,
   "id": "aba5e7df",
   "metadata": {},
   "outputs": [],
   "source": []
  },
  {
   "cell_type": "code",
   "execution_count": null,
   "id": "6818e4f0",
   "metadata": {},
   "outputs": [],
   "source": []
  },
  {
   "cell_type": "code",
   "execution_count": 1,
   "id": "a0e27185",
   "metadata": {},
   "outputs": [],
   "source": []
  },
  {
   "cell_type": "code",
   "execution_count": null,
   "id": "ba8f956b",
   "metadata": {},
   "outputs": [],
   "source": []
  },
  {
   "cell_type": "code",
   "execution_count": 7,
   "id": "7e4f2929",
   "metadata": {},
   "outputs": [
    {
     "ename": "NameError",
     "evalue": "name 'Library' is not defined",
     "output_type": "error",
     "traceback": [
      "\u001b[1;31m---------------------------------------------------------------------------\u001b[0m",
      "\u001b[1;31mNameError\u001b[0m                                 Traceback (most recent call last)",
      "\u001b[1;32m~\\AppData\\Local\\Temp\\ipykernel_8844\\777698502.py\u001b[0m in \u001b[0;36m<module>\u001b[1;34m\u001b[0m\n\u001b[0;32m     67\u001b[0m \u001b[1;33m\u001b[0m\u001b[0m\n\u001b[0;32m     68\u001b[0m \u001b[1;33m\u001b[0m\u001b[0m\n\u001b[1;32m---> 69\u001b[1;33m \u001b[0mlib\u001b[0m\u001b[1;33m=\u001b[0m\u001b[0mLibrary\u001b[0m\u001b[1;33m(\u001b[0m\u001b[1;33m)\u001b[0m\u001b[1;33m\u001b[0m\u001b[1;33m\u001b[0m\u001b[0m\n\u001b[0m\u001b[0;32m     70\u001b[0m \u001b[0mprint\u001b[0m\u001b[1;33m(\u001b[0m\u001b[1;34m\"Welcome to Library\"\u001b[0m\u001b[1;33m)\u001b[0m\u001b[1;33m\u001b[0m\u001b[1;33m\u001b[0m\u001b[0m\n\u001b[0;32m     71\u001b[0m \u001b[1;32mwhile\u001b[0m\u001b[1;33m(\u001b[0m\u001b[1;32mTrue\u001b[0m\u001b[1;33m)\u001b[0m\u001b[1;33m:\u001b[0m\u001b[1;33m\u001b[0m\u001b[1;33m\u001b[0m\u001b[0m\n",
      "\u001b[1;31mNameError\u001b[0m: name 'Library' is not defined"
     ]
    }
   ],
   "source": []
  },
  {
   "cell_type": "code",
   "execution_count": null,
   "id": "b9d0a6b4",
   "metadata": {},
   "outputs": [],
   "source": []
  },
  {
   "cell_type": "code",
   "execution_count": null,
   "id": "73f77e29",
   "metadata": {},
   "outputs": [],
   "source": []
  },
  {
   "cell_type": "code",
   "execution_count": null,
   "id": "86acb5b8",
   "metadata": {},
   "outputs": [],
   "source": []
  },
  {
   "cell_type": "code",
   "execution_count": null,
   "id": "2c78433c",
   "metadata": {},
   "outputs": [],
   "source": []
  },
  {
   "cell_type": "code",
   "execution_count": null,
   "id": "a186caa5",
   "metadata": {},
   "outputs": [],
   "source": []
  },
  {
   "cell_type": "code",
   "execution_count": null,
   "id": "bf2895ba",
   "metadata": {},
   "outputs": [],
   "source": []
  },
  {
   "cell_type": "code",
   "execution_count": null,
   "id": "1d6938e5",
   "metadata": {},
   "outputs": [],
   "source": []
  },
  {
   "cell_type": "code",
   "execution_count": null,
   "id": "39666eba",
   "metadata": {},
   "outputs": [],
   "source": []
  },
  {
   "cell_type": "code",
   "execution_count": null,
   "id": "d577fd6a",
   "metadata": {},
   "outputs": [],
   "source": []
  },
  {
   "cell_type": "code",
   "execution_count": null,
   "id": "f5073ec9",
   "metadata": {},
   "outputs": [],
   "source": []
  },
  {
   "cell_type": "code",
   "execution_count": null,
   "id": "573271f8",
   "metadata": {},
   "outputs": [],
   "source": []
  },
  {
   "cell_type": "code",
   "execution_count": null,
   "id": "7311299a",
   "metadata": {},
   "outputs": [],
   "source": []
  },
  {
   "cell_type": "code",
   "execution_count": null,
   "id": "2d21f7a7",
   "metadata": {},
   "outputs": [],
   "source": []
  },
  {
   "cell_type": "code",
   "execution_count": null,
   "id": "b6353273",
   "metadata": {},
   "outputs": [],
   "source": []
  },
  {
   "cell_type": "code",
   "execution_count": null,
   "id": "52469e16",
   "metadata": {},
   "outputs": [],
   "source": []
  },
  {
   "cell_type": "code",
   "execution_count": null,
   "id": "996d1f32",
   "metadata": {},
   "outputs": [],
   "source": []
  },
  {
   "cell_type": "code",
   "execution_count": null,
   "id": "35bb9580",
   "metadata": {},
   "outputs": [],
   "source": []
  },
  {
   "cell_type": "code",
   "execution_count": null,
   "id": "a5bd5407",
   "metadata": {},
   "outputs": [],
   "source": []
  }
 ],
 "metadata": {
  "kernelspec": {
   "display_name": "Python 3 (ipykernel)",
   "language": "python",
   "name": "python3"
  },
  "language_info": {
   "codemirror_mode": {
    "name": "ipython",
    "version": 3
   },
   "file_extension": ".py",
   "mimetype": "text/x-python",
   "name": "python",
   "nbconvert_exporter": "python",
   "pygments_lexer": "ipython3",
   "version": "3.9.13"
  }
 },
 "nbformat": 4,
 "nbformat_minor": 5
}
